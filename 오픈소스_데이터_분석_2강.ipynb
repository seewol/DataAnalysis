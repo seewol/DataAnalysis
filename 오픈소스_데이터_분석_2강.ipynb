{
  "cells": [
    {
      "cell_type": "markdown",
      "metadata": {
        "id": "view-in-github",
        "colab_type": "text"
      },
      "source": [
        "<a href=\"https://colab.research.google.com/github/seewol/DataAnalysis/blob/main/%EC%98%A4%ED%94%88%EC%86%8C%EC%8A%A4_%EB%8D%B0%EC%9D%B4%ED%84%B0_%EB%B6%84%EC%84%9D_2%EA%B0%95.ipynb\" target=\"_parent\"><img src=\"https://colab.research.google.com/assets/colab-badge.svg\" alt=\"Open In Colab\"/></a>"
      ]
    },
    {
      "cell_type": "markdown",
      "metadata": {
        "id": "DkPKaAsoRq5Q"
      },
      "source": [
        "\n",
        "\n",
        "# 오픈소스 기반 데이터 분석 2강 - 데이터 분석을 위한 파이썬 1\n"
      ]
    },
    {
      "cell_type": "markdown",
      "metadata": {
        "id": "-I7BVVlnRrB0"
      },
      "source": [
        "## 2-1 리스트 슬라이싱"
      ]
    },
    {
      "cell_type": "code",
      "execution_count": 8,
      "metadata": {
        "id": "2Y2HEiaiRwAI",
        "colab": {
          "base_uri": "https://localhost:8080/"
        },
        "outputId": "8b1073cc-c514-4083-e590-7b74d5da78f0"
      },
      "outputs": [
        {
          "output_type": "stream",
          "name": "stdout",
          "text": [
            "[10, 20, 30, 40]\n",
            "[50, 60, 70]\n"
          ]
        }
      ],
      "source": [
        "numbers = [10, 20, 30, 40, 50, 60, 70]\n",
        "# 첫 4개의 원소 출력\n",
        "first_four = numbers[: 4]\n",
        "print(first_four)\n",
        "# 뒤 3개의 원소를 출력\n",
        "last_three = numbers[-3: ] # 끝 인덱스는 포함 안 됨.\n",
        "# 첫 번째, 마지막 인덱스는 없어도 동일한 결과.\n",
        "print(last_three)"
      ]
    },
    {
      "cell_type": "code",
      "execution_count": 12,
      "metadata": {
        "id": "IO8bsKekR0W_",
        "colab": {
          "base_uri": "https://localhost:8080/"
        },
        "outputId": "5da7bfb5-65be-4acd-8419-df3997bbba36"
      },
      "outputs": [
        {
          "output_type": "stream",
          "name": "stdout",
          "text": [
            "[10, 30, 50, 70]\n",
            "[70, 60, 50, 40, 30, 20, 10]\n"
          ]
        }
      ],
      "source": [
        "numbers = [10, 20, 30, 40, 50, 60, 70]\n",
        "# 간격을 이용하기!\n",
        "# 홀수번째 항목 출력\n",
        "every_other_list = numbers[::2] # 정방향으로 2칸씩\n",
        "print(every_other_list)\n",
        "\n",
        "# 역순 출력\n",
        "reverse_list = numbers[::-1] # 역으로 1칸씩\n",
        "print(reverse_list)"
      ]
    },
    {
      "cell_type": "code",
      "execution_count": 13,
      "metadata": {
        "id": "60qOf7uxVdAg",
        "colab": {
          "base_uri": "https://localhost:8080/"
        },
        "outputId": "79a2f154-25ec-4807-89d2-3b0792e73192"
      },
      "outputs": [
        {
          "output_type": "stream",
          "name": "stdout",
          "text": [
            "[[1, 2, 3, 4], [5, 6, 7, 8]]\n",
            "[[1, 2], [5, 6], [9, 10], [13, 14]]\n"
          ]
        }
      ],
      "source": [
        "matrix = [\n",
        "    [1, 2, 3, 4],\n",
        "    [5, 6, 7, 8],\n",
        "    [9, 10, 11, 12],\n",
        "    [13, 14, 15, 16]\n",
        "]\n",
        "\n",
        "# 첫 두 행 출력\n",
        "first_two_rows = matrix[:2]\n",
        "print(first_two_rows)\n",
        "\n",
        "# 첫 두 열 출력\n",
        "first_two_columns = [row[:2] for row in matrix]\n",
        "# 각 행을 돌리면서 0, 1 인덱스까지(두 열만) 추출\n",
        "print(first_two_columns)"
      ]
    },
    {
      "cell_type": "markdown",
      "metadata": {
        "id": "eOMufu5SXiAU"
      },
      "source": [
        "## 2-2 리스트 컴프리헨션"
      ]
    },
    {
      "cell_type": "code",
      "execution_count": 17,
      "metadata": {
        "id": "JpmgdsW9V0CY",
        "colab": {
          "base_uri": "https://localhost:8080/"
        },
        "outputId": "5d99e69c-3987-487f-f736-1b394f51cddc"
      },
      "outputs": [
        {
          "output_type": "stream",
          "name": "stdout",
          "text": [
            "[0, 1, 2, 3, 4]\n"
          ]
        }
      ],
      "source": [
        "numbers = [ ]\n",
        "\n",
        "# 0 ~ 4 포함 리스트 생성\n",
        "# range()도 마지막 인덱스 포함 안 함\n",
        "\n",
        "# for i in range(5):\n",
        "#     numbers.append(i)\n",
        "\n",
        "numbers = [num for num in range(5)]\n",
        "print(numbers)"
      ]
    },
    {
      "cell_type": "code",
      "execution_count": 18,
      "metadata": {
        "id": "cRC8x3_iW0im",
        "colab": {
          "base_uri": "https://localhost:8080/"
        },
        "outputId": "ea9c15e2-c3d9-4fad-9893-8c9d885e620f"
      },
      "outputs": [
        {
          "output_type": "stream",
          "name": "stdout",
          "text": [
            "[1, 4, 9, 16, 25]\n"
          ]
        }
      ],
      "source": [
        "numbers = [1, 2, 3, 4, 5]\n",
        "squares = [ ]\n",
        "\n",
        "# numbers의 모든 항목의 값을 제곱한 리스트\n",
        "# for num in numbers:\n",
        "#   squares.append(num ** 2)\n",
        "\n",
        "squares = [num ** 2 for num in numbers]\n",
        "print(squares)"
      ]
    },
    {
      "cell_type": "code",
      "execution_count": 19,
      "metadata": {
        "id": "MAvimjk6Fqlc",
        "colab": {
          "base_uri": "https://localhost:8080/"
        },
        "outputId": "6ea6f042-0e03-4537-8b7d-2c322fb834ce"
      },
      "outputs": [
        {
          "output_type": "stream",
          "name": "stdout",
          "text": [
            "[2, 4, 6, 8, 10]\n"
          ]
        }
      ],
      "source": [
        "numbers = [1, 2, 3, 4, 5, 6, 7, 8, 9, 10]\n",
        "even_numbers = [ ]\n",
        "\n",
        "# 짝수만 추출한 리스트\n",
        "# for num in numbers:\n",
        "#     if num % 2 == 0:\n",
        "#         even_numbers.append(num)\n",
        "\n",
        "even_numbers = [num for num in numbers if num % 2 == 0]\n",
        "\n",
        "print(even_numbers)"
      ]
    },
    {
      "cell_type": "code",
      "execution_count": 38,
      "metadata": {
        "id": "HGO8XTxBFqld",
        "colab": {
          "base_uri": "https://localhost:8080/"
        },
        "outputId": "f74d6fb2-1f30-4ec3-ccf4-100bed416834"
      },
      "outputs": [
        {
          "output_type": "stream",
          "name": "stdout",
          "text": [
            "('사과', '주스')\n",
            "('사과', '잼')\n",
            "('사과', '통조림')\n",
            "('복숭아', '주스')\n",
            "('복숭아', '잼')\n",
            "('복숭아', '통조림')\n",
            "('바나나', '주스')\n",
            "('바나나', '잼')\n",
            "('바나나', '통조림')\n",
            "\n",
            "('사과', '주스')\n",
            "('사과', '잼')\n",
            "('사과', '통조림')\n",
            "('복숭아', '주스')\n",
            "('복숭아', '잼')\n",
            "('복숭아', '통조림')\n",
            "('바나나', '주스')\n",
            "('바나나', '잼')\n",
            "('바나나', '통조림')\n"
          ]
        }
      ],
      "source": [
        "list1 = ['사과', '복숭아', '바나나']\n",
        "list2 = ['주스', '잼', '통조림']\n",
        "pairs = [ ]\n",
        "\n",
        "# 두 리스트에 포함된 모든 원소를 조합한 투플의 리스트 생성\n",
        "for fruit in list1:\n",
        "    for product in list2:\n",
        "        pairs.append((fruit, product))\n",
        "print(*pairs, sep = \"\\n\")\n",
        "\n",
        "print()\n",
        "\n",
        "my_pairs = [(fruit, product) for fruit in list1 for product in list2]\n",
        "# list1이 한 번 돌 때 중첩된 형태로 list2가 돌아야 함.\n",
        "print(*my_pairs, sep = \"\\n\")"
      ]
    },
    {
      "cell_type": "code",
      "execution_count": 42,
      "metadata": {
        "id": "K-BPhFTUFqle",
        "colab": {
          "base_uri": "https://localhost:8080/"
        },
        "outputId": "7f427f08-4f1b-4735-f21a-c3aae5ed2897"
      },
      "outputs": [
        {
          "output_type": "stream",
          "name": "stdout",
          "text": [
            "{0: 0, 1: 1, 2: 4, 3: 9, 4: 16}\n",
            "\n",
            "{0: 0, 1: 1, 2: 4, 3: 9, 4: 16}\n"
          ]
        }
      ],
      "source": [
        "squares = { }\n",
        "\n",
        "# 딕셔너리 생성 (키, 값 형식, 중괄호 {} 활용)\n",
        "for i in range(5):\n",
        "    squares[i] = i ** 2\n",
        "print(squares)\n",
        "\n",
        "print()\n",
        "\n",
        "my_squares = {i : i ** 2 for i in range(5)}\n",
        "print(my_squares)"
      ]
    },
    {
      "cell_type": "code",
      "execution_count": 50,
      "metadata": {
        "id": "UoTcC8-GFqlf",
        "colab": {
          "base_uri": "https://localhost:8080/"
        },
        "outputId": "09038e41-23e2-4bf8-bae7-c7261d609fc0"
      },
      "outputs": [
        {
          "output_type": "stream",
          "name": "stdout",
          "text": [
            "{'서울': 957, '부산': 339, '인천': 294, '대구': 242}\n",
            "{'부산': 339}\n"
          ]
        }
      ],
      "source": [
        "city_population = {\n",
        "    '서울': 957, '부산': 339, '인천': 294, '대구': 242, '광주': 145, '대전': 147,\n",
        "    '울산': 114, '세종': 36, '수원': 115, '창원': 103, '고양': 105, '용인': 108, '성남': 94\n",
        "}\n",
        "\n",
        "# 인구 200만명 이상의 도시 리스트\n",
        "large_cities = {city : pop for city, pop in city_population.items()\n",
        "                                                        if pop >= 200}\n",
        "# (키, 값) 튜플 리스트로 반환할 수 있도록 items() 메서드 활용\n",
        "# items() : 각 dictionary element가 하나의 튜플로 묶여서 반환됨\n",
        "\n",
        "print(large_cities)\n",
        "\n",
        "# 인구 300만 이상 및 이름에 '산'이 포함된 도시 리스트\n",
        "large_short_name_cities = {city : pop for city, pop in city_population.items()\n",
        "                                                      if pop >= 300\n",
        "                                                      and '산' in city}\n",
        "print(large_short_name_cities)"
      ]
    },
    {
      "cell_type": "markdown",
      "metadata": {
        "id": "njDOfr1LFqlf"
      },
      "source": [
        "## 2-3 문자열 형식화"
      ]
    },
    {
      "cell_type": "code",
      "execution_count": 55,
      "metadata": {
        "id": "fzO0h6KfFqlg",
        "colab": {
          "base_uri": "https://localhost:8080/"
        },
        "outputId": "3d9165c8-2740-4278-d3b9-448552739e44"
      },
      "outputs": [
        {
          "output_type": "stream",
          "name": "stdout",
          "text": [
            "이름 : 홍길동, 나이 : 30, 월급 : 3500000원\n"
          ]
        }
      ],
      "source": [
        "name = '홍길동'\n",
        "age = 30\n",
        "salary = 3500000\n",
        "tax_rate = 0.1\n",
        "\n",
        "# C 스타일 문자열 포매팅\n",
        "# 이름, 나이, 월급 출력\n",
        "basic_format = '이름 : %s, 나이 : %d, 월급 : %d원' % (name, age, salary)\n",
        "print(basic_format)\n",
        "\n",
        "# 직원이름, 나이, 세후 월급 출력\n",
        "\n",
        "# 직원이름, 나이, 월급, 세금, 실수령액 추력\n",
        "\n",
        "\n",
        "# print(index_format)\n",
        "# print(keyword_format)"
      ]
    },
    {
      "cell_type": "code",
      "source": [
        "name = '홍길동'\n",
        "age = 30\n",
        "salary = 3500000\n",
        "tax_rate = 0.1\n",
        "\n",
        "# str.format 문자열 포매팅\n",
        "# 이름, 나이, 월급 출력\n",
        "basic_format = '이름 : {}, 나이 : {}, 월급 : {:,}'.format(name, age, salary)\n",
        "print(basic_format)\n",
        "\n",
        "# 직원이름, 나이, 세후 월급 출력\n",
        "index_format = '이름 : {0}, 나이 : {1}, 세후 월급 : {2:,}'.format(name, age, int(salary * (1 - tax_rate)))\n",
        "print(index_format)\n",
        "\n",
        "# 직원이름, 나이, 월급, 세금, 실수령액 추력\n",
        "keyword_format = '이름 : {employee}, 나이 : {years}, 월급 : {income:,}, 세금 : {tax:.1%}, 실수령액 : {net_income:,}'.format(\n",
        "                      employee = name, years = age, income = salary, tax = tax_rate, net_income = int(salary * (1 - tax_rate)))\n",
        "print(keyword_format)"
      ],
      "metadata": {
        "id": "cIvmmcQux_ph",
        "colab": {
          "base_uri": "https://localhost:8080/"
        },
        "outputId": "9872e9f4-ffa3-4b3b-bafb-ce7d54513788"
      },
      "execution_count": 64,
      "outputs": [
        {
          "output_type": "stream",
          "name": "stdout",
          "text": [
            "이름 : 홍길동, 나이 : 30, 월급 : 3,500,000\n",
            "이름 : 홍길동, 나이 : 30, 세후 월급 : 3,150,000\n",
            "이름 : 홍길동, 나이 : 30, 월급 : 3,500,000, 세금 : 10.0%, 실수령액 : 3,150,000\n"
          ]
        }
      ]
    },
    {
      "cell_type": "code",
      "source": [
        "name = '홍길동'\n",
        "age = 30\n",
        "salary = 3500000\n",
        "tax_rate = 0.1\n",
        "\n",
        "# f-문자열 포매팅\n",
        "# 이름, 나이, 월급 출력\n",
        "basic_format = f'이름 : {name}, 나이 : {age}, 월급 : {salary:,}원'\n",
        "print(basic_format)\n",
        "\n",
        "# 직원이름, 나이, 세후 월급 출력\n",
        "index_format = f'직원 {name}의 나이는 {age}살이고, 세후 월급은 {int(salary * (1 - tax_rate)):,}원이다.'\n",
        "print(index_format)\n",
        "\n",
        "# 직원이름, 나이, 월급, 세금, 실수령액 추력\n",
        "keyword_format = F'직원 {name}의 나이는 {age}살이고, 월급은 {salary:,}원이다.\\n하지만 세금이 무려 {tax_rate:.1%}라 실수령액은 {int(salary * (1 - tax_rate)):,}원이다.'\n",
        "print(keyword_format)"
      ],
      "metadata": {
        "id": "EIO3z-XQx_ce",
        "colab": {
          "base_uri": "https://localhost:8080/"
        },
        "outputId": "ac954a58-1a1f-475a-f2dd-57ce31cb9b5b"
      },
      "execution_count": 79,
      "outputs": [
        {
          "output_type": "stream",
          "name": "stdout",
          "text": [
            "이름 : 홍길동, 나이 : 30, 월급 : 3,500,000원\n",
            "직원 홍길동의 나이는 30살이고, 세후 월급은 3,150,000원이다.\n",
            "직원 홍길동의 나이는 30살이고, 월급은 3,500,000원이다.\n",
            "하지만 세금이 무려 10.0%라 실수령액은 3,150,000원이다.\n"
          ]
        }
      ]
    },
    {
      "cell_type": "markdown",
      "metadata": {
        "id": "6lnhCleJFqlg"
      },
      "source": [
        "## 2-4 컨텍스트 관리"
      ]
    },
    {
      "cell_type": "code",
      "execution_count": 81,
      "metadata": {
        "id": "eFpmQp3QFqlh"
      },
      "outputs": [],
      "source": [
        "# 파일 오픈 & 클로즈\n",
        "file = open('output.txt', 'w')\n",
        "file.write('Hello, world!\\n')\n",
        "file.close()\n",
        "\n",
        "# with문을 사용한 예\n",
        "with open('output.txt', 'w') as file :\n",
        "    file.write('Hello, world!\\n')"
      ]
    },
    {
      "cell_type": "code",
      "execution_count": null,
      "metadata": {
        "id": "D0aOLti0Fqlh"
      },
      "outputs": [],
      "source": [
        "# 복수개의 파일(읽기 & 쓰기) 관리\n",
        "with open('input.txt', 'r') as in_file, open('output.txt', 'w') as out_file :\n",
        "  for line in in_file :\n",
        "    out_file.write(line.upper())"
      ]
    },
    {
      "cell_type": "code",
      "execution_count": 82,
      "metadata": {
        "id": "6SE0rrD5Fqli",
        "colab": {
          "base_uri": "https://localhost:8080/"
        },
        "outputId": "5cc9fa9f-eb0b-48ed-db78-3bf9809223a0"
      },
      "outputs": [
        {
          "output_type": "stream",
          "name": "stdout",
          "text": [
            "학번,이름,데이터베이스,파이썬,클라우드\n",
            "101,김철수,85,78,92\n",
            "102,이영희,76,82,78\n",
            "103,박지민,92,95,85\n",
            "104,최준서,63,70,75\n",
            "105,정미나,88,84,91\n",
            "\n"
          ]
        }
      ],
      "source": [
        "import urllib.request\n",
        "\n",
        "# URL 연결 관리\n",
        "with urllib.request.urlopen('https://raw.githubusercontent.com/jaehwachung/Data-Analysis-with-Open-Source/refs/heads/main/Chapter%203/students.csv') as response :\n",
        "    data = response.read( ).decode('utf-8')\n",
        "\n",
        "print(data)"
      ]
    }
  ],
  "metadata": {
    "colab": {
      "provenance": [],
      "include_colab_link": true
    },
    "kernelspec": {
      "display_name": "Python 3",
      "name": "python3"
    },
    "language_info": {
      "name": "python"
    }
  },
  "nbformat": 4,
  "nbformat_minor": 0
}